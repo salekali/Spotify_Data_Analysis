{
 "cells": [
  {
   "cell_type": "markdown",
   "metadata": {},
   "source": [
    "# <strong>Retrieving Spotify Song Data from 2019</strong>"
   ]
  },
  {
   "cell_type": "code",
   "execution_count": 1,
   "metadata": {},
   "outputs": [],
   "source": [
    "#importing spotify libraries\n",
    "import spotipy\n",
    "from spotipy.oauth2 import SpotifyClientCredentials"
   ]
  },
  {
   "cell_type": "code",
   "execution_count": 2,
   "metadata": {},
   "outputs": [],
   "source": [
    "cid =\"xx\" \n",
    "secret = \"xx\""
   ]
  },
  {
   "cell_type": "code",
   "execution_count": 3,
   "metadata": {},
   "outputs": [],
   "source": [
    "client_credentials_manager = SpotifyClientCredentials(client_id=cid, client_secret=secret)\n",
    "sp = spotipy.Spotify(client_credentials_manager=client_credentials_manager)"
   ]
  },
  {
   "cell_type": "markdown",
   "metadata": {},
   "source": [
    "## Retrieving Track Data"
   ]
  },
  {
   "cell_type": "code",
   "execution_count": 4,
   "metadata": {},
   "outputs": [],
   "source": [
    "# timeit library to measure the time needed to run this code\n",
    "import timeit\n",
    "start = timeit.default_timer()\n",
    "\n",
    "# create empty lists where the results are going to be stored\n",
    "artist_name = []\n",
    "track_name = []\n",
    "popularity = []\n",
    "track_id = []"
   ]
  },
  {
   "cell_type": "code",
   "execution_count": 5,
   "metadata": {},
   "outputs": [
    {
     "name": "stdout",
     "output_type": "stream",
     "text": [
      "Time to run this code (in seconds): 162.18516139500025\n"
     ]
    }
   ],
   "source": [
    "for i in range(0,10000,50):\n",
    "    track_results = sp.search(q='year:2019', type='track', limit=50,offset=i)\n",
    "    for i, t in enumerate(track_results['tracks']['items']):\n",
    "        artist_name.append(t['artists'][0]['name'])\n",
    "        track_name.append(t['name'])\n",
    "        track_id.append(t['id'])\n",
    "        popularity.append(t['popularity'])\n",
    "      \n",
    "\n",
    "stop = timeit.default_timer()\n",
    "print ('Time to run this code (in seconds):', stop - start)"
   ]
  },
  {
   "cell_type": "code",
   "execution_count": 6,
   "metadata": {},
   "outputs": [
    {
     "name": "stdout",
     "output_type": "stream",
     "text": [
      "number of elements in the track_id list: 10000\n"
     ]
    }
   ],
   "source": [
    "print('number of elements in the track_id list:', len(track_id))"
   ]
  },
  {
   "cell_type": "code",
   "execution_count": 7,
   "metadata": {},
   "outputs": [
    {
     "name": "stdout",
     "output_type": "stream",
     "text": [
      "(10000, 4)\n"
     ]
    },
    {
     "data": {
      "text/html": [
       "<div>\n",
       "<style scoped>\n",
       "    .dataframe tbody tr th:only-of-type {\n",
       "        vertical-align: middle;\n",
       "    }\n",
       "\n",
       "    .dataframe tbody tr th {\n",
       "        vertical-align: top;\n",
       "    }\n",
       "\n",
       "    .dataframe thead th {\n",
       "        text-align: right;\n",
       "    }\n",
       "</style>\n",
       "<table border=\"1\" class=\"dataframe\">\n",
       "  <thead>\n",
       "    <tr style=\"text-align: right;\">\n",
       "      <th></th>\n",
       "      <th>artist_name</th>\n",
       "      <th>track_name</th>\n",
       "      <th>track_id</th>\n",
       "      <th>popularity</th>\n",
       "    </tr>\n",
       "  </thead>\n",
       "  <tbody>\n",
       "    <tr>\n",
       "      <th>0</th>\n",
       "      <td>Shawn Mendes</td>\n",
       "      <td>Señorita</td>\n",
       "      <td>0TK2YIli7K1leLovkQiNik</td>\n",
       "      <td>100</td>\n",
       "    </tr>\n",
       "    <tr>\n",
       "      <th>1</th>\n",
       "      <td>Drake</td>\n",
       "      <td>Money In The Grave (Drake ft. Rick Ross)</td>\n",
       "      <td>5ry2OE6R2zPQFDO85XkgRb</td>\n",
       "      <td>92</td>\n",
       "    </tr>\n",
       "    <tr>\n",
       "      <th>2</th>\n",
       "      <td>Lizzo</td>\n",
       "      <td>Truth Hurts</td>\n",
       "      <td>5qmq61DAAOUaW8AUo8xKhh</td>\n",
       "      <td>90</td>\n",
       "    </tr>\n",
       "    <tr>\n",
       "      <th>3</th>\n",
       "      <td>Lil Nas X</td>\n",
       "      <td>Panini</td>\n",
       "      <td>6fTt0CH2t0mdeB2N9XFG5r</td>\n",
       "      <td>91</td>\n",
       "    </tr>\n",
       "    <tr>\n",
       "      <th>4</th>\n",
       "      <td>Billie Eilish</td>\n",
       "      <td>bad guy</td>\n",
       "      <td>2Fxmhks0bxGSBdJ92vM42m</td>\n",
       "      <td>96</td>\n",
       "    </tr>\n",
       "  </tbody>\n",
       "</table>\n",
       "</div>"
      ],
      "text/plain": [
       "     artist_name                                track_name  \\\n",
       "0   Shawn Mendes                                  Señorita   \n",
       "1          Drake  Money In The Grave (Drake ft. Rick Ross)   \n",
       "2          Lizzo                               Truth Hurts   \n",
       "3      Lil Nas X                                    Panini   \n",
       "4  Billie Eilish                                   bad guy   \n",
       "\n",
       "                 track_id  popularity  \n",
       "0  0TK2YIli7K1leLovkQiNik         100  \n",
       "1  5ry2OE6R2zPQFDO85XkgRb          92  \n",
       "2  5qmq61DAAOUaW8AUo8xKhh          90  \n",
       "3  6fTt0CH2t0mdeB2N9XFG5r          91  \n",
       "4  2Fxmhks0bxGSBdJ92vM42m          96  "
      ]
     },
     "execution_count": 7,
     "metadata": {},
     "output_type": "execute_result"
    }
   ],
   "source": [
    "import pandas as pd\n",
    "\n",
    "df_tracks = pd.DataFrame({'artist_name':artist_name,'track_name':track_name,'track_id':track_id,'popularity':popularity})\n",
    "print(df_tracks.shape)\n",
    "df_tracks.head()"
   ]
  },
  {
   "cell_type": "code",
   "execution_count": 8,
   "metadata": {},
   "outputs": [
    {
     "name": "stdout",
     "output_type": "stream",
     "text": [
      "<class 'pandas.core.frame.DataFrame'>\n",
      "RangeIndex: 10000 entries, 0 to 9999\n",
      "Data columns (total 4 columns):\n",
      "artist_name    10000 non-null object\n",
      "track_name     10000 non-null object\n",
      "track_id       10000 non-null object\n",
      "popularity     10000 non-null int64\n",
      "dtypes: int64(1), object(3)\n",
      "memory usage: 312.6+ KB\n"
     ]
    }
   ],
   "source": [
    "df_tracks.info()"
   ]
  },
  {
   "cell_type": "code",
   "execution_count": 9,
   "metadata": {},
   "outputs": [
    {
     "data": {
      "text/plain": [
       "artist_name    1295\n",
       "track_name     1295\n",
       "track_id       1295\n",
       "popularity     1295\n",
       "dtype: int64"
      ]
     },
     "execution_count": 9,
     "metadata": {},
     "output_type": "execute_result"
    }
   ],
   "source": [
    "# check for duplicates\n",
    "df_tracks[df_tracks.duplicated(subset=['artist_name','track_name'])].count()"
   ]
  },
  {
   "cell_type": "code",
   "execution_count": 10,
   "metadata": {},
   "outputs": [],
   "source": [
    "df_tracks.drop_duplicates(subset=['artist_name','track_name'], inplace=True)"
   ]
  },
  {
   "cell_type": "code",
   "execution_count": 11,
   "metadata": {},
   "outputs": [
    {
     "data": {
      "text/plain": [
       "artist_name    0\n",
       "track_name     0\n",
       "track_id       0\n",
       "popularity     0\n",
       "dtype: int64"
      ]
     },
     "execution_count": 11,
     "metadata": {},
     "output_type": "execute_result"
    }
   ],
   "source": [
    "# check for duplicates again\n",
    "df_tracks[df_tracks.duplicated(subset=['artist_name','track_name'])].count()"
   ]
  },
  {
   "cell_type": "code",
   "execution_count": 12,
   "metadata": {},
   "outputs": [
    {
     "data": {
      "text/plain": [
       "(8705, 4)"
      ]
     },
     "execution_count": 12,
     "metadata": {},
     "output_type": "execute_result"
    }
   ],
   "source": [
    "df_tracks.shape"
   ]
  },
  {
   "cell_type": "markdown",
   "metadata": {},
   "source": [
    "## Retrieving Track Audio Features"
   ]
  },
  {
   "cell_type": "code",
   "execution_count": 13,
   "metadata": {},
   "outputs": [
    {
     "name": "stdout",
     "output_type": "stream",
     "text": [
      "Number of tracks where no audio features were available: 204\n",
      "Time to run this code (in seconds): 26.998793757000385\n"
     ]
    }
   ],
   "source": [
    "# again measuring the time\n",
    "start = timeit.default_timer()\n",
    "\n",
    "# empty list, batchsize and the counter for None results\n",
    "rows = []\n",
    "batchsize = 100\n",
    "None_counter = 0\n",
    "\n",
    "for i in range(0,len(df_tracks['track_id']),batchsize):\n",
    "    batch = df_tracks['track_id'][i:i+batchsize]\n",
    "    feature_results = sp.audio_features(batch)\n",
    "    for i, t in enumerate(feature_results):\n",
    "        if t == None:\n",
    "            None_counter = None_counter + 1\n",
    "        else:\n",
    "            rows.append(t)\n",
    "            \n",
    "print('Number of tracks where no audio features were available:',None_counter)\n",
    "\n",
    "stop = timeit.default_timer()\n",
    "print ('Time to run this code (in seconds):',stop - start)"
   ]
  },
  {
   "cell_type": "code",
   "execution_count": 14,
   "metadata": {},
   "outputs": [
    {
     "name": "stdout",
     "output_type": "stream",
     "text": [
      "number of elements in the track_id list: 8501\n"
     ]
    }
   ],
   "source": [
    "print('number of elements in the track_id list:', len(rows))"
   ]
  },
  {
   "cell_type": "code",
   "execution_count": 15,
   "metadata": {},
   "outputs": [
    {
     "name": "stdout",
     "output_type": "stream",
     "text": [
      "Shape of the dataset: (8501, 18)\n"
     ]
    },
    {
     "data": {
      "text/html": [
       "<div>\n",
       "<style scoped>\n",
       "    .dataframe tbody tr th:only-of-type {\n",
       "        vertical-align: middle;\n",
       "    }\n",
       "\n",
       "    .dataframe tbody tr th {\n",
       "        vertical-align: top;\n",
       "    }\n",
       "\n",
       "    .dataframe thead th {\n",
       "        text-align: right;\n",
       "    }\n",
       "</style>\n",
       "<table border=\"1\" class=\"dataframe\">\n",
       "  <thead>\n",
       "    <tr style=\"text-align: right;\">\n",
       "      <th></th>\n",
       "      <th>acousticness</th>\n",
       "      <th>analysis_url</th>\n",
       "      <th>danceability</th>\n",
       "      <th>duration_ms</th>\n",
       "      <th>energy</th>\n",
       "      <th>id</th>\n",
       "      <th>instrumentalness</th>\n",
       "      <th>key</th>\n",
       "      <th>liveness</th>\n",
       "      <th>loudness</th>\n",
       "      <th>mode</th>\n",
       "      <th>speechiness</th>\n",
       "      <th>tempo</th>\n",
       "      <th>time_signature</th>\n",
       "      <th>track_href</th>\n",
       "      <th>type</th>\n",
       "      <th>uri</th>\n",
       "      <th>valence</th>\n",
       "    </tr>\n",
       "  </thead>\n",
       "  <tbody>\n",
       "    <tr>\n",
       "      <th>0</th>\n",
       "      <td>0.037</td>\n",
       "      <td>https://api.spotify.com/v1/audio-analysis/0TK2...</td>\n",
       "      <td>0.759</td>\n",
       "      <td>190960</td>\n",
       "      <td>0.540</td>\n",
       "      <td>0TK2YIli7K1leLovkQiNik</td>\n",
       "      <td>0.00</td>\n",
       "      <td>9</td>\n",
       "      <td>0.0945</td>\n",
       "      <td>-6.039</td>\n",
       "      <td>0</td>\n",
       "      <td>0.0287</td>\n",
       "      <td>116.947</td>\n",
       "      <td>4</td>\n",
       "      <td>https://api.spotify.com/v1/tracks/0TK2YIli7K1l...</td>\n",
       "      <td>audio_features</td>\n",
       "      <td>spotify:track:0TK2YIli7K1leLovkQiNik</td>\n",
       "      <td>0.750</td>\n",
       "    </tr>\n",
       "    <tr>\n",
       "      <th>1</th>\n",
       "      <td>0.101</td>\n",
       "      <td>https://api.spotify.com/v1/audio-analysis/5ry2...</td>\n",
       "      <td>0.831</td>\n",
       "      <td>205427</td>\n",
       "      <td>0.502</td>\n",
       "      <td>5ry2OE6R2zPQFDO85XkgRb</td>\n",
       "      <td>0.00</td>\n",
       "      <td>10</td>\n",
       "      <td>0.1220</td>\n",
       "      <td>-4.045</td>\n",
       "      <td>0</td>\n",
       "      <td>0.0460</td>\n",
       "      <td>100.541</td>\n",
       "      <td>4</td>\n",
       "      <td>https://api.spotify.com/v1/tracks/5ry2OE6R2zPQ...</td>\n",
       "      <td>audio_features</td>\n",
       "      <td>spotify:track:5ry2OE6R2zPQFDO85XkgRb</td>\n",
       "      <td>0.101</td>\n",
       "    </tr>\n",
       "    <tr>\n",
       "      <th>2</th>\n",
       "      <td>0.110</td>\n",
       "      <td>https://api.spotify.com/v1/audio-analysis/5qmq...</td>\n",
       "      <td>0.715</td>\n",
       "      <td>173325</td>\n",
       "      <td>0.624</td>\n",
       "      <td>5qmq61DAAOUaW8AUo8xKhh</td>\n",
       "      <td>0.00</td>\n",
       "      <td>4</td>\n",
       "      <td>0.1230</td>\n",
       "      <td>-3.046</td>\n",
       "      <td>0</td>\n",
       "      <td>0.1140</td>\n",
       "      <td>158.087</td>\n",
       "      <td>4</td>\n",
       "      <td>https://api.spotify.com/v1/tracks/5qmq61DAAOUa...</td>\n",
       "      <td>audio_features</td>\n",
       "      <td>spotify:track:5qmq61DAAOUaW8AUo8xKhh</td>\n",
       "      <td>0.412</td>\n",
       "    </tr>\n",
       "    <tr>\n",
       "      <th>3</th>\n",
       "      <td>0.342</td>\n",
       "      <td>https://api.spotify.com/v1/audio-analysis/6fTt...</td>\n",
       "      <td>0.703</td>\n",
       "      <td>114893</td>\n",
       "      <td>0.594</td>\n",
       "      <td>6fTt0CH2t0mdeB2N9XFG5r</td>\n",
       "      <td>0.00</td>\n",
       "      <td>5</td>\n",
       "      <td>0.1230</td>\n",
       "      <td>-6.146</td>\n",
       "      <td>0</td>\n",
       "      <td>0.0752</td>\n",
       "      <td>153.848</td>\n",
       "      <td>4</td>\n",
       "      <td>https://api.spotify.com/v1/tracks/6fTt0CH2t0md...</td>\n",
       "      <td>audio_features</td>\n",
       "      <td>spotify:track:6fTt0CH2t0mdeB2N9XFG5r</td>\n",
       "      <td>0.475</td>\n",
       "    </tr>\n",
       "    <tr>\n",
       "      <th>4</th>\n",
       "      <td>0.328</td>\n",
       "      <td>https://api.spotify.com/v1/audio-analysis/2Fxm...</td>\n",
       "      <td>0.701</td>\n",
       "      <td>194088</td>\n",
       "      <td>0.425</td>\n",
       "      <td>2Fxmhks0bxGSBdJ92vM42m</td>\n",
       "      <td>0.13</td>\n",
       "      <td>7</td>\n",
       "      <td>0.1000</td>\n",
       "      <td>-10.965</td>\n",
       "      <td>1</td>\n",
       "      <td>0.3750</td>\n",
       "      <td>135.128</td>\n",
       "      <td>4</td>\n",
       "      <td>https://api.spotify.com/v1/tracks/2Fxmhks0bxGS...</td>\n",
       "      <td>audio_features</td>\n",
       "      <td>spotify:track:2Fxmhks0bxGSBdJ92vM42m</td>\n",
       "      <td>0.562</td>\n",
       "    </tr>\n",
       "  </tbody>\n",
       "</table>\n",
       "</div>"
      ],
      "text/plain": [
       "   acousticness                                       analysis_url  \\\n",
       "0         0.037  https://api.spotify.com/v1/audio-analysis/0TK2...   \n",
       "1         0.101  https://api.spotify.com/v1/audio-analysis/5ry2...   \n",
       "2         0.110  https://api.spotify.com/v1/audio-analysis/5qmq...   \n",
       "3         0.342  https://api.spotify.com/v1/audio-analysis/6fTt...   \n",
       "4         0.328  https://api.spotify.com/v1/audio-analysis/2Fxm...   \n",
       "\n",
       "   danceability  duration_ms  energy                      id  \\\n",
       "0         0.759       190960   0.540  0TK2YIli7K1leLovkQiNik   \n",
       "1         0.831       205427   0.502  5ry2OE6R2zPQFDO85XkgRb   \n",
       "2         0.715       173325   0.624  5qmq61DAAOUaW8AUo8xKhh   \n",
       "3         0.703       114893   0.594  6fTt0CH2t0mdeB2N9XFG5r   \n",
       "4         0.701       194088   0.425  2Fxmhks0bxGSBdJ92vM42m   \n",
       "\n",
       "   instrumentalness  key  liveness  loudness  mode  speechiness    tempo  \\\n",
       "0              0.00    9    0.0945    -6.039     0       0.0287  116.947   \n",
       "1              0.00   10    0.1220    -4.045     0       0.0460  100.541   \n",
       "2              0.00    4    0.1230    -3.046     0       0.1140  158.087   \n",
       "3              0.00    5    0.1230    -6.146     0       0.0752  153.848   \n",
       "4              0.13    7    0.1000   -10.965     1       0.3750  135.128   \n",
       "\n",
       "   time_signature                                         track_href  \\\n",
       "0               4  https://api.spotify.com/v1/tracks/0TK2YIli7K1l...   \n",
       "1               4  https://api.spotify.com/v1/tracks/5ry2OE6R2zPQ...   \n",
       "2               4  https://api.spotify.com/v1/tracks/5qmq61DAAOUa...   \n",
       "3               4  https://api.spotify.com/v1/tracks/6fTt0CH2t0md...   \n",
       "4               4  https://api.spotify.com/v1/tracks/2Fxmhks0bxGS...   \n",
       "\n",
       "             type                                   uri  valence  \n",
       "0  audio_features  spotify:track:0TK2YIli7K1leLovkQiNik    0.750  \n",
       "1  audio_features  spotify:track:5ry2OE6R2zPQFDO85XkgRb    0.101  \n",
       "2  audio_features  spotify:track:5qmq61DAAOUaW8AUo8xKhh    0.412  \n",
       "3  audio_features  spotify:track:6fTt0CH2t0mdeB2N9XFG5r    0.475  \n",
       "4  audio_features  spotify:track:2Fxmhks0bxGSBdJ92vM42m    0.562  "
      ]
     },
     "execution_count": 15,
     "metadata": {},
     "output_type": "execute_result"
    }
   ],
   "source": [
    "df_audio_features = pd.DataFrame.from_dict(rows,orient='columns')\n",
    "print(\"Shape of the dataset:\", df_audio_features.shape)\n",
    "df_audio_features.head()"
   ]
  },
  {
   "cell_type": "code",
   "execution_count": 16,
   "metadata": {},
   "outputs": [
    {
     "name": "stdout",
     "output_type": "stream",
     "text": [
      "<class 'pandas.core.frame.DataFrame'>\n",
      "RangeIndex: 8501 entries, 0 to 8500\n",
      "Data columns (total 18 columns):\n",
      "acousticness        8501 non-null float64\n",
      "analysis_url        8501 non-null object\n",
      "danceability        8501 non-null float64\n",
      "duration_ms         8501 non-null int64\n",
      "energy              8501 non-null float64\n",
      "id                  8501 non-null object\n",
      "instrumentalness    8501 non-null float64\n",
      "key                 8501 non-null int64\n",
      "liveness            8501 non-null float64\n",
      "loudness            8501 non-null float64\n",
      "mode                8501 non-null int64\n",
      "speechiness         8501 non-null float64\n",
      "tempo               8501 non-null float64\n",
      "time_signature      8501 non-null int64\n",
      "track_href          8501 non-null object\n",
      "type                8501 non-null object\n",
      "uri                 8501 non-null object\n",
      "valence             8501 non-null float64\n",
      "dtypes: float64(9), int64(4), object(5)\n",
      "memory usage: 1.2+ MB\n"
     ]
    }
   ],
   "source": [
    "df_audio_features.info()"
   ]
  },
  {
   "cell_type": "markdown",
   "metadata": {},
   "source": [
    "## Merging Both Dataframes"
   ]
  },
  {
   "cell_type": "code",
   "execution_count": 17,
   "metadata": {},
   "outputs": [
    {
     "data": {
      "text/plain": [
       "(8501, 14)"
      ]
     },
     "execution_count": 17,
     "metadata": {},
     "output_type": "execute_result"
    }
   ],
   "source": [
    "columns_to_drop = ['analysis_url','track_href','type','uri']\n",
    "df_audio_features.drop(columns_to_drop, axis=1,inplace=True)\n",
    "\n",
    "df_audio_features.rename(columns={'id': 'track_id'}, inplace=True)\n",
    "\n",
    "df_audio_features.shape"
   ]
  },
  {
   "cell_type": "code",
   "execution_count": 18,
   "metadata": {},
   "outputs": [
    {
     "name": "stdout",
     "output_type": "stream",
     "text": [
      "Shape of the dataset: (8501, 14)\n"
     ]
    },
    {
     "data": {
      "text/html": [
       "<div>\n",
       "<style scoped>\n",
       "    .dataframe tbody tr th:only-of-type {\n",
       "        vertical-align: middle;\n",
       "    }\n",
       "\n",
       "    .dataframe tbody tr th {\n",
       "        vertical-align: top;\n",
       "    }\n",
       "\n",
       "    .dataframe thead th {\n",
       "        text-align: right;\n",
       "    }\n",
       "</style>\n",
       "<table border=\"1\" class=\"dataframe\">\n",
       "  <thead>\n",
       "    <tr style=\"text-align: right;\">\n",
       "      <th></th>\n",
       "      <th>artist_name</th>\n",
       "      <th>track_name</th>\n",
       "      <th>track_id</th>\n",
       "      <th>popularity</th>\n",
       "      <th>acousticness</th>\n",
       "      <th>danceability</th>\n",
       "      <th>duration_ms</th>\n",
       "      <th>energy</th>\n",
       "      <th>instrumentalness</th>\n",
       "      <th>key</th>\n",
       "      <th>liveness</th>\n",
       "      <th>loudness</th>\n",
       "      <th>mode</th>\n",
       "      <th>speechiness</th>\n",
       "      <th>tempo</th>\n",
       "      <th>time_signature</th>\n",
       "      <th>valence</th>\n",
       "    </tr>\n",
       "  </thead>\n",
       "  <tbody>\n",
       "    <tr>\n",
       "      <th>0</th>\n",
       "      <td>Shawn Mendes</td>\n",
       "      <td>Señorita</td>\n",
       "      <td>0TK2YIli7K1leLovkQiNik</td>\n",
       "      <td>100</td>\n",
       "      <td>0.037</td>\n",
       "      <td>0.759</td>\n",
       "      <td>190960</td>\n",
       "      <td>0.540</td>\n",
       "      <td>0.00</td>\n",
       "      <td>9</td>\n",
       "      <td>0.0945</td>\n",
       "      <td>-6.039</td>\n",
       "      <td>0</td>\n",
       "      <td>0.0287</td>\n",
       "      <td>116.947</td>\n",
       "      <td>4</td>\n",
       "      <td>0.750</td>\n",
       "    </tr>\n",
       "    <tr>\n",
       "      <th>1</th>\n",
       "      <td>Drake</td>\n",
       "      <td>Money In The Grave (Drake ft. Rick Ross)</td>\n",
       "      <td>5ry2OE6R2zPQFDO85XkgRb</td>\n",
       "      <td>92</td>\n",
       "      <td>0.101</td>\n",
       "      <td>0.831</td>\n",
       "      <td>205427</td>\n",
       "      <td>0.502</td>\n",
       "      <td>0.00</td>\n",
       "      <td>10</td>\n",
       "      <td>0.1220</td>\n",
       "      <td>-4.045</td>\n",
       "      <td>0</td>\n",
       "      <td>0.0460</td>\n",
       "      <td>100.541</td>\n",
       "      <td>4</td>\n",
       "      <td>0.101</td>\n",
       "    </tr>\n",
       "    <tr>\n",
       "      <th>2</th>\n",
       "      <td>Lizzo</td>\n",
       "      <td>Truth Hurts</td>\n",
       "      <td>5qmq61DAAOUaW8AUo8xKhh</td>\n",
       "      <td>90</td>\n",
       "      <td>0.110</td>\n",
       "      <td>0.715</td>\n",
       "      <td>173325</td>\n",
       "      <td>0.624</td>\n",
       "      <td>0.00</td>\n",
       "      <td>4</td>\n",
       "      <td>0.1230</td>\n",
       "      <td>-3.046</td>\n",
       "      <td>0</td>\n",
       "      <td>0.1140</td>\n",
       "      <td>158.087</td>\n",
       "      <td>4</td>\n",
       "      <td>0.412</td>\n",
       "    </tr>\n",
       "    <tr>\n",
       "      <th>3</th>\n",
       "      <td>Lil Nas X</td>\n",
       "      <td>Panini</td>\n",
       "      <td>6fTt0CH2t0mdeB2N9XFG5r</td>\n",
       "      <td>91</td>\n",
       "      <td>0.342</td>\n",
       "      <td>0.703</td>\n",
       "      <td>114893</td>\n",
       "      <td>0.594</td>\n",
       "      <td>0.00</td>\n",
       "      <td>5</td>\n",
       "      <td>0.1230</td>\n",
       "      <td>-6.146</td>\n",
       "      <td>0</td>\n",
       "      <td>0.0752</td>\n",
       "      <td>153.848</td>\n",
       "      <td>4</td>\n",
       "      <td>0.475</td>\n",
       "    </tr>\n",
       "    <tr>\n",
       "      <th>4</th>\n",
       "      <td>Billie Eilish</td>\n",
       "      <td>bad guy</td>\n",
       "      <td>2Fxmhks0bxGSBdJ92vM42m</td>\n",
       "      <td>96</td>\n",
       "      <td>0.328</td>\n",
       "      <td>0.701</td>\n",
       "      <td>194088</td>\n",
       "      <td>0.425</td>\n",
       "      <td>0.13</td>\n",
       "      <td>7</td>\n",
       "      <td>0.1000</td>\n",
       "      <td>-10.965</td>\n",
       "      <td>1</td>\n",
       "      <td>0.3750</td>\n",
       "      <td>135.128</td>\n",
       "      <td>4</td>\n",
       "      <td>0.562</td>\n",
       "    </tr>\n",
       "  </tbody>\n",
       "</table>\n",
       "</div>"
      ],
      "text/plain": [
       "     artist_name                                track_name  \\\n",
       "0   Shawn Mendes                                  Señorita   \n",
       "1          Drake  Money In The Grave (Drake ft. Rick Ross)   \n",
       "2          Lizzo                               Truth Hurts   \n",
       "3      Lil Nas X                                    Panini   \n",
       "4  Billie Eilish                                   bad guy   \n",
       "\n",
       "                 track_id  popularity  acousticness  danceability  \\\n",
       "0  0TK2YIli7K1leLovkQiNik         100         0.037         0.759   \n",
       "1  5ry2OE6R2zPQFDO85XkgRb          92         0.101         0.831   \n",
       "2  5qmq61DAAOUaW8AUo8xKhh          90         0.110         0.715   \n",
       "3  6fTt0CH2t0mdeB2N9XFG5r          91         0.342         0.703   \n",
       "4  2Fxmhks0bxGSBdJ92vM42m          96         0.328         0.701   \n",
       "\n",
       "   duration_ms  energy  instrumentalness  key  liveness  loudness  mode  \\\n",
       "0       190960   0.540              0.00    9    0.0945    -6.039     0   \n",
       "1       205427   0.502              0.00   10    0.1220    -4.045     0   \n",
       "2       173325   0.624              0.00    4    0.1230    -3.046     0   \n",
       "3       114893   0.594              0.00    5    0.1230    -6.146     0   \n",
       "4       194088   0.425              0.13    7    0.1000   -10.965     1   \n",
       "\n",
       "   speechiness    tempo  time_signature  valence  \n",
       "0       0.0287  116.947               4    0.750  \n",
       "1       0.0460  100.541               4    0.101  \n",
       "2       0.1140  158.087               4    0.412  \n",
       "3       0.0752  153.848               4    0.475  \n",
       "4       0.3750  135.128               4    0.562  "
      ]
     },
     "execution_count": 18,
     "metadata": {},
     "output_type": "execute_result"
    }
   ],
   "source": [
    "# merge both dataframes\n",
    "# the 'inner' method will make sure that we only keep track IDs present in both datasets\n",
    "df = pd.merge(df_tracks,df_audio_features,on='track_id',how='inner')\n",
    "print(\"Shape of the dataset:\", df_audio_features.shape)\n",
    "df.head()"
   ]
  },
  {
   "cell_type": "code",
   "execution_count": 19,
   "metadata": {},
   "outputs": [
    {
     "name": "stdout",
     "output_type": "stream",
     "text": [
      "<class 'pandas.core.frame.DataFrame'>\n",
      "Int64Index: 8501 entries, 0 to 8500\n",
      "Data columns (total 17 columns):\n",
      "artist_name         8501 non-null object\n",
      "track_name          8501 non-null object\n",
      "track_id            8501 non-null object\n",
      "popularity          8501 non-null int64\n",
      "acousticness        8501 non-null float64\n",
      "danceability        8501 non-null float64\n",
      "duration_ms         8501 non-null int64\n",
      "energy              8501 non-null float64\n",
      "instrumentalness    8501 non-null float64\n",
      "key                 8501 non-null int64\n",
      "liveness            8501 non-null float64\n",
      "loudness            8501 non-null float64\n",
      "mode                8501 non-null int64\n",
      "speechiness         8501 non-null float64\n",
      "tempo               8501 non-null float64\n",
      "time_signature      8501 non-null int64\n",
      "valence             8501 non-null float64\n",
      "dtypes: float64(9), int64(5), object(3)\n",
      "memory usage: 1.2+ MB\n"
     ]
    }
   ],
   "source": [
    "df.info()"
   ]
  },
  {
   "cell_type": "code",
   "execution_count": 20,
   "metadata": {},
   "outputs": [
    {
     "data": {
      "text/html": [
       "<div>\n",
       "<style scoped>\n",
       "    .dataframe tbody tr th:only-of-type {\n",
       "        vertical-align: middle;\n",
       "    }\n",
       "\n",
       "    .dataframe tbody tr th {\n",
       "        vertical-align: top;\n",
       "    }\n",
       "\n",
       "    .dataframe thead th {\n",
       "        text-align: right;\n",
       "    }\n",
       "</style>\n",
       "<table border=\"1\" class=\"dataframe\">\n",
       "  <thead>\n",
       "    <tr style=\"text-align: right;\">\n",
       "      <th></th>\n",
       "      <th>artist_name</th>\n",
       "      <th>track_name</th>\n",
       "      <th>track_id</th>\n",
       "      <th>popularity</th>\n",
       "      <th>acousticness</th>\n",
       "      <th>danceability</th>\n",
       "      <th>duration_ms</th>\n",
       "      <th>energy</th>\n",
       "      <th>instrumentalness</th>\n",
       "      <th>key</th>\n",
       "      <th>liveness</th>\n",
       "      <th>loudness</th>\n",
       "      <th>mode</th>\n",
       "      <th>speechiness</th>\n",
       "      <th>tempo</th>\n",
       "      <th>time_signature</th>\n",
       "      <th>valence</th>\n",
       "    </tr>\n",
       "  </thead>\n",
       "  <tbody>\n",
       "  </tbody>\n",
       "</table>\n",
       "</div>"
      ],
      "text/plain": [
       "Empty DataFrame\n",
       "Columns: [artist_name, track_name, track_id, popularity, acousticness, danceability, duration_ms, energy, instrumentalness, key, liveness, loudness, mode, speechiness, tempo, time_signature, valence]\n",
       "Index: []"
      ]
     },
     "execution_count": 20,
     "metadata": {},
     "output_type": "execute_result"
    }
   ],
   "source": [
    "df[df.duplicated(subset=['artist_name','track_name'],keep=False)]"
   ]
  },
  {
   "cell_type": "markdown",
   "metadata": {},
   "source": [
    "## Export Dataframe to CSV File"
   ]
  },
  {
   "cell_type": "code",
   "execution_count": 21,
   "metadata": {},
   "outputs": [],
   "source": [
    "df.to_csv('SpotifyAudioFeatures2019.csv')"
   ]
  }
 ],
 "metadata": {
  "kernelspec": {
   "display_name": "Python 3",
   "language": "python",
   "name": "python3"
  },
  "language_info": {
   "codemirror_mode": {
    "name": "ipython",
    "version": 3
   },
   "file_extension": ".py",
   "mimetype": "text/x-python",
   "name": "python",
   "nbconvert_exporter": "python",
   "pygments_lexer": "ipython3",
   "version": "3.7.3"
  }
 },
 "nbformat": 4,
 "nbformat_minor": 4
}
