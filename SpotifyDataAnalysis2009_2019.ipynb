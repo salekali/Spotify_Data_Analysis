{
 "cells": [
  {
   "cell_type": "markdown",
   "metadata": {},
   "source": [
    "# <strong>Analysing Spotify Song Data from 2009-2019</strong>\n",
    "\n",
    "This project aims to analyse the differences in music from 2009 to 2019."
   ]
  },
  {
   "cell_type": "markdown",
   "metadata": {},
   "source": [
    "## <strong> 1. Collecting and Preprocessing Spotify Data </strong>"
   ]
  },
  {
   "cell_type": "code",
   "execution_count": 87,
   "metadata": {},
   "outputs": [],
   "source": [
    "#importing pandas as pd\n",
    "import numpy as np\n",
    "\n",
    "#importing spotify libraries\n",
    "import spotipy\n",
    "from spotipy.oauth2 import SpotifyClientCredentials"
   ]
  },
  {
   "cell_type": "code",
   "execution_count": 88,
   "metadata": {},
   "outputs": [],
   "source": [
    "cid =\"b36dcee1d1c84d73bc2e088dbe2b2791\" \n",
    "secret = \"b44b14f096874401966de78ec0077cc6\""
   ]
  },
  {
   "cell_type": "code",
   "execution_count": 89,
   "metadata": {},
   "outputs": [],
   "source": [
    "client_credentials_manager = SpotifyClientCredentials(client_id=cid, client_secret=secret)\n",
    "sp = spotipy.Spotify(client_credentials_manager=client_credentials_manager)"
   ]
  },
  {
   "cell_type": "code",
   "execution_count": 22,
   "metadata": {},
   "outputs": [],
   "source": [
    "track_results = sp.search(q='year:2019', type='track', limit=50,offset=1)"
   ]
  },
  {
   "cell_type": "code",
   "execution_count": 193,
   "metadata": {},
   "outputs": [
    {
     "name": "stdout",
     "output_type": "stream",
     "text": [
      "Time to run this code (in seconds): 1611.554714652004\n"
     ]
    }
   ],
   "source": [
    "# timeit library to measure the time needed to run this code\n",
    "import timeit\n",
    "start = timeit.default_timer()\n",
    "\n",
    "# create empty lists where the results are going to be stored\n",
    "artist_name = []\n",
    "track_name = []\n",
    "popularity = []\n",
    "track_id = []\n",
    "year=[]\n",
    "\n",
    "for y in range(2009,2020):\n",
    "    for i in range(0,10000,50):\n",
    "        track_results = sp.search(q='year:'+str(y), type='track', limit=50,offset=i)\n",
    "        for i, t in enumerate(track_results['tracks']['items']):\n",
    "            artist_name.append(t['artists'][0]['name'])\n",
    "            track_name.append(t['name'])\n",
    "            track_id.append(t['id'])\n",
    "            popularity.append(t['popularity'])\n",
    "            year.append(y)  \n",
    "\n",
    "stop = timeit.default_timer()\n",
    "print ('Time to run this code (in seconds):', stop - start)"
   ]
  },
  {
   "cell_type": "code",
   "execution_count": 196,
   "metadata": {},
   "outputs": [
    {
     "name": "stdout",
     "output_type": "stream",
     "text": [
      "number of elements in the track_id list: 110000\n"
     ]
    }
   ],
   "source": [
    "print('number of elements in the track_id list:', len(track_id))"
   ]
  },
  {
   "cell_type": "code",
   "execution_count": 197,
   "metadata": {},
   "outputs": [
    {
     "name": "stdout",
     "output_type": "stream",
     "text": [
      "(110000, 5)\n"
     ]
    },
    {
     "data": {
      "text/html": [
       "<div>\n",
       "<style scoped>\n",
       "    .dataframe tbody tr th:only-of-type {\n",
       "        vertical-align: middle;\n",
       "    }\n",
       "\n",
       "    .dataframe tbody tr th {\n",
       "        vertical-align: top;\n",
       "    }\n",
       "\n",
       "    .dataframe thead th {\n",
       "        text-align: right;\n",
       "    }\n",
       "</style>\n",
       "<table border=\"1\" class=\"dataframe\">\n",
       "  <thead>\n",
       "    <tr style=\"text-align: right;\">\n",
       "      <th></th>\n",
       "      <th>artist_name</th>\n",
       "      <th>track_name</th>\n",
       "      <th>track_id</th>\n",
       "      <th>popularity</th>\n",
       "      <th>year</th>\n",
       "    </tr>\n",
       "  </thead>\n",
       "  <tbody>\n",
       "    <tr>\n",
       "      <th>0</th>\n",
       "      <td>Miley Cyrus</td>\n",
       "      <td>Party In The U.S.A.</td>\n",
       "      <td>5Q0Nhxo0l2bP3pNjpGJwV1</td>\n",
       "      <td>72</td>\n",
       "      <td>2009</td>\n",
       "    </tr>\n",
       "    <tr>\n",
       "      <th>1</th>\n",
       "      <td>Cage The Elephant</td>\n",
       "      <td>Ain't No Rest for the Wicked</td>\n",
       "      <td>3Pzh926pXggbMe2ZpXyMV7</td>\n",
       "      <td>71</td>\n",
       "      <td>2009</td>\n",
       "    </tr>\n",
       "    <tr>\n",
       "      <th>2</th>\n",
       "      <td>Kid Cudi</td>\n",
       "      <td>Day 'N' Nite (nightmare)</td>\n",
       "      <td>5FEXPoPnzueFJQCPRIrC3c</td>\n",
       "      <td>69</td>\n",
       "      <td>2009</td>\n",
       "    </tr>\n",
       "    <tr>\n",
       "      <th>3</th>\n",
       "      <td>Owl City</td>\n",
       "      <td>Fireflies</td>\n",
       "      <td>3DamFFqW32WihKkTVlwTYQ</td>\n",
       "      <td>75</td>\n",
       "      <td>2009</td>\n",
       "    </tr>\n",
       "    <tr>\n",
       "      <th>4</th>\n",
       "      <td>Kid Cudi</td>\n",
       "      <td>Pursuit Of Happiness (Nightmare)</td>\n",
       "      <td>5iSEsR6NKjlC9SrIJkyL3k</td>\n",
       "      <td>67</td>\n",
       "      <td>2009</td>\n",
       "    </tr>\n",
       "  </tbody>\n",
       "</table>\n",
       "</div>"
      ],
      "text/plain": [
       "         artist_name                        track_name  \\\n",
       "0        Miley Cyrus               Party In The U.S.A.   \n",
       "1  Cage The Elephant      Ain't No Rest for the Wicked   \n",
       "2           Kid Cudi          Day 'N' Nite (nightmare)   \n",
       "3           Owl City                         Fireflies   \n",
       "4           Kid Cudi  Pursuit Of Happiness (Nightmare)   \n",
       "\n",
       "                 track_id  popularity  year  \n",
       "0  5Q0Nhxo0l2bP3pNjpGJwV1          72  2009  \n",
       "1  3Pzh926pXggbMe2ZpXyMV7          71  2009  \n",
       "2  5FEXPoPnzueFJQCPRIrC3c          69  2009  \n",
       "3  3DamFFqW32WihKkTVlwTYQ          75  2009  \n",
       "4  5iSEsR6NKjlC9SrIJkyL3k          67  2009  "
      ]
     },
     "execution_count": 197,
     "metadata": {},
     "output_type": "execute_result"
    }
   ],
   "source": [
    "import pandas as pd\n",
    "\n",
    "df_tracks = pd.DataFrame({'artist_name':artist_name,'track_name':track_name,'track_id':track_id,'popularity':popularity, 'year':year})\n",
    "print(df_tracks.shape)\n",
    "df_tracks.head()"
   ]
  },
  {
   "cell_type": "code",
   "execution_count": 198,
   "metadata": {},
   "outputs": [
    {
     "data": {
      "text/plain": [
       "artist_name    7726\n",
       "track_name     7726\n",
       "track_id       7726\n",
       "popularity     7726\n",
       "year           7726\n",
       "dtype: int64"
      ]
     },
     "execution_count": 198,
     "metadata": {},
     "output_type": "execute_result"
    }
   ],
   "source": [
    "# check for duplicates\n",
    "df_tracks[df_tracks.duplicated(subset=['artist_name','track_name'])].count()"
   ]
  },
  {
   "cell_type": "code",
   "execution_count": 199,
   "metadata": {},
   "outputs": [],
   "source": [
    "df_tracks.drop_duplicates(subset=['artist_name','track_name'], inplace=True)"
   ]
  },
  {
   "cell_type": "code",
   "execution_count": 200,
   "metadata": {},
   "outputs": [
    {
     "data": {
      "text/plain": [
       "artist_name    0\n",
       "track_name     0\n",
       "track_id       0\n",
       "popularity     0\n",
       "year           0\n",
       "dtype: int64"
      ]
     },
     "execution_count": 200,
     "metadata": {},
     "output_type": "execute_result"
    }
   ],
   "source": [
    "# check for duplicates again\n",
    "df_tracks[df_tracks.duplicated(subset=['artist_name','track_name'])].count()"
   ]
  },
  {
   "cell_type": "code",
   "execution_count": 201,
   "metadata": {},
   "outputs": [
    {
     "data": {
      "text/plain": [
       "(102274, 5)"
      ]
     },
     "execution_count": 201,
     "metadata": {},
     "output_type": "execute_result"
    }
   ],
   "source": [
    "df_tracks.shape"
   ]
  },
  {
   "cell_type": "markdown",
   "metadata": {},
   "source": [
    "## <strong>2. Retrieving Track Audio Features</strong>"
   ]
  },
  {
   "cell_type": "code",
   "execution_count": 202,
   "metadata": {},
   "outputs": [
    {
     "name": "stdout",
     "output_type": "stream",
     "text": [
      "Number of tracks where no audio features were available: 49\n",
      "Time to run this code (in seconds): 425.9274579789999\n"
     ]
    }
   ],
   "source": [
    "# again measuring the time\n",
    "start = timeit.default_timer()\n",
    "\n",
    "# empty list, batchsize and the counter for None results\n",
    "rows = []\n",
    "batchsize = 100\n",
    "None_counter = 0\n",
    "\n",
    "for i in range(0,len(df_tracks['track_id']),batchsize):\n",
    "    batch = df_tracks['track_id'][i:i+batchsize]\n",
    "    feature_results = sp.audio_features(batch)\n",
    "    for i, t in enumerate(feature_results):\n",
    "        if t == None:\n",
    "            None_counter = None_counter + 1\n",
    "        else:\n",
    "            rows.append(t)\n",
    "            \n",
    "print('Number of tracks where no audio features were available:',None_counter)\n",
    "\n",
    "stop = timeit.default_timer()\n",
    "print ('Time to run this code (in seconds):',stop - start)"
   ]
  },
  {
   "cell_type": "code",
   "execution_count": 203,
   "metadata": {},
   "outputs": [
    {
     "name": "stdout",
     "output_type": "stream",
     "text": [
      "number of elements in the track_id list: 102225\n"
     ]
    }
   ],
   "source": [
    "print('number of elements in the track_id list:', len(rows))"
   ]
  },
  {
   "cell_type": "code",
   "execution_count": 204,
   "metadata": {},
   "outputs": [
    {
     "name": "stdout",
     "output_type": "stream",
     "text": [
      "Shape of the dataset: (102225, 18)\n"
     ]
    },
    {
     "data": {
      "text/html": [
       "<div>\n",
       "<style scoped>\n",
       "    .dataframe tbody tr th:only-of-type {\n",
       "        vertical-align: middle;\n",
       "    }\n",
       "\n",
       "    .dataframe tbody tr th {\n",
       "        vertical-align: top;\n",
       "    }\n",
       "\n",
       "    .dataframe thead th {\n",
       "        text-align: right;\n",
       "    }\n",
       "</style>\n",
       "<table border=\"1\" class=\"dataframe\">\n",
       "  <thead>\n",
       "    <tr style=\"text-align: right;\">\n",
       "      <th></th>\n",
       "      <th>acousticness</th>\n",
       "      <th>analysis_url</th>\n",
       "      <th>danceability</th>\n",
       "      <th>duration_ms</th>\n",
       "      <th>energy</th>\n",
       "      <th>id</th>\n",
       "      <th>instrumentalness</th>\n",
       "      <th>key</th>\n",
       "      <th>liveness</th>\n",
       "      <th>loudness</th>\n",
       "      <th>mode</th>\n",
       "      <th>speechiness</th>\n",
       "      <th>tempo</th>\n",
       "      <th>time_signature</th>\n",
       "      <th>track_href</th>\n",
       "      <th>type</th>\n",
       "      <th>uri</th>\n",
       "      <th>valence</th>\n",
       "    </tr>\n",
       "  </thead>\n",
       "  <tbody>\n",
       "    <tr>\n",
       "      <th>0</th>\n",
       "      <td>0.00124</td>\n",
       "      <td>https://api.spotify.com/v1/audio-analysis/5Q0N...</td>\n",
       "      <td>0.454</td>\n",
       "      <td>202067</td>\n",
       "      <td>0.708</td>\n",
       "      <td>5Q0Nhxo0l2bP3pNjpGJwV1</td>\n",
       "      <td>0.000181</td>\n",
       "      <td>10</td>\n",
       "      <td>0.0679</td>\n",
       "      <td>-4.526</td>\n",
       "      <td>0</td>\n",
       "      <td>0.0675</td>\n",
       "      <td>192.180</td>\n",
       "      <td>4</td>\n",
       "      <td>https://api.spotify.com/v1/tracks/5Q0Nhxo0l2bP...</td>\n",
       "      <td>audio_features</td>\n",
       "      <td>spotify:track:5Q0Nhxo0l2bP3pNjpGJwV1</td>\n",
       "      <td>0.483</td>\n",
       "    </tr>\n",
       "    <tr>\n",
       "      <th>1</th>\n",
       "      <td>0.04380</td>\n",
       "      <td>https://api.spotify.com/v1/audio-analysis/3Pzh...</td>\n",
       "      <td>0.634</td>\n",
       "      <td>175493</td>\n",
       "      <td>0.849</td>\n",
       "      <td>3Pzh926pXggbMe2ZpXyMV7</td>\n",
       "      <td>0.000000</td>\n",
       "      <td>0</td>\n",
       "      <td>0.3630</td>\n",
       "      <td>-7.075</td>\n",
       "      <td>1</td>\n",
       "      <td>0.1050</td>\n",
       "      <td>156.004</td>\n",
       "      <td>4</td>\n",
       "      <td>https://api.spotify.com/v1/tracks/3Pzh926pXggb...</td>\n",
       "      <td>audio_features</td>\n",
       "      <td>spotify:track:3Pzh926pXggbMe2ZpXyMV7</td>\n",
       "      <td>0.919</td>\n",
       "    </tr>\n",
       "    <tr>\n",
       "      <th>2</th>\n",
       "      <td>0.50300</td>\n",
       "      <td>https://api.spotify.com/v1/audio-analysis/5FEX...</td>\n",
       "      <td>0.878</td>\n",
       "      <td>221267</td>\n",
       "      <td>0.446</td>\n",
       "      <td>5FEXPoPnzueFJQCPRIrC3c</td>\n",
       "      <td>0.000006</td>\n",
       "      <td>11</td>\n",
       "      <td>0.1170</td>\n",
       "      <td>-6.362</td>\n",
       "      <td>0</td>\n",
       "      <td>0.0635</td>\n",
       "      <td>138.035</td>\n",
       "      <td>4</td>\n",
       "      <td>https://api.spotify.com/v1/tracks/5FEXPoPnzueF...</td>\n",
       "      <td>audio_features</td>\n",
       "      <td>spotify:track:5FEXPoPnzueFJQCPRIrC3c</td>\n",
       "      <td>0.805</td>\n",
       "    </tr>\n",
       "    <tr>\n",
       "      <th>3</th>\n",
       "      <td>0.02940</td>\n",
       "      <td>https://api.spotify.com/v1/audio-analysis/3Dam...</td>\n",
       "      <td>0.591</td>\n",
       "      <td>228347</td>\n",
       "      <td>0.649</td>\n",
       "      <td>3DamFFqW32WihKkTVlwTYQ</td>\n",
       "      <td>0.000000</td>\n",
       "      <td>3</td>\n",
       "      <td>0.1330</td>\n",
       "      <td>-6.720</td>\n",
       "      <td>1</td>\n",
       "      <td>0.0417</td>\n",
       "      <td>90.002</td>\n",
       "      <td>4</td>\n",
       "      <td>https://api.spotify.com/v1/tracks/3DamFFqW32Wi...</td>\n",
       "      <td>audio_features</td>\n",
       "      <td>spotify:track:3DamFFqW32WihKkTVlwTYQ</td>\n",
       "      <td>0.489</td>\n",
       "    </tr>\n",
       "    <tr>\n",
       "      <th>4</th>\n",
       "      <td>0.51100</td>\n",
       "      <td>https://api.spotify.com/v1/audio-analysis/5iSE...</td>\n",
       "      <td>0.629</td>\n",
       "      <td>295293</td>\n",
       "      <td>0.622</td>\n",
       "      <td>5iSEsR6NKjlC9SrIJkyL3k</td>\n",
       "      <td>0.000174</td>\n",
       "      <td>0</td>\n",
       "      <td>0.3830</td>\n",
       "      <td>-8.906</td>\n",
       "      <td>1</td>\n",
       "      <td>0.0404</td>\n",
       "      <td>115.293</td>\n",
       "      <td>4</td>\n",
       "      <td>https://api.spotify.com/v1/tracks/5iSEsR6NKjlC...</td>\n",
       "      <td>audio_features</td>\n",
       "      <td>spotify:track:5iSEsR6NKjlC9SrIJkyL3k</td>\n",
       "      <td>0.264</td>\n",
       "    </tr>\n",
       "  </tbody>\n",
       "</table>\n",
       "</div>"
      ],
      "text/plain": [
       "   acousticness                                       analysis_url  \\\n",
       "0       0.00124  https://api.spotify.com/v1/audio-analysis/5Q0N...   \n",
       "1       0.04380  https://api.spotify.com/v1/audio-analysis/3Pzh...   \n",
       "2       0.50300  https://api.spotify.com/v1/audio-analysis/5FEX...   \n",
       "3       0.02940  https://api.spotify.com/v1/audio-analysis/3Dam...   \n",
       "4       0.51100  https://api.spotify.com/v1/audio-analysis/5iSE...   \n",
       "\n",
       "   danceability  duration_ms  energy                      id  \\\n",
       "0         0.454       202067   0.708  5Q0Nhxo0l2bP3pNjpGJwV1   \n",
       "1         0.634       175493   0.849  3Pzh926pXggbMe2ZpXyMV7   \n",
       "2         0.878       221267   0.446  5FEXPoPnzueFJQCPRIrC3c   \n",
       "3         0.591       228347   0.649  3DamFFqW32WihKkTVlwTYQ   \n",
       "4         0.629       295293   0.622  5iSEsR6NKjlC9SrIJkyL3k   \n",
       "\n",
       "   instrumentalness  key  liveness  loudness  mode  speechiness    tempo  \\\n",
       "0          0.000181   10    0.0679    -4.526     0       0.0675  192.180   \n",
       "1          0.000000    0    0.3630    -7.075     1       0.1050  156.004   \n",
       "2          0.000006   11    0.1170    -6.362     0       0.0635  138.035   \n",
       "3          0.000000    3    0.1330    -6.720     1       0.0417   90.002   \n",
       "4          0.000174    0    0.3830    -8.906     1       0.0404  115.293   \n",
       "\n",
       "   time_signature                                         track_href  \\\n",
       "0               4  https://api.spotify.com/v1/tracks/5Q0Nhxo0l2bP...   \n",
       "1               4  https://api.spotify.com/v1/tracks/3Pzh926pXggb...   \n",
       "2               4  https://api.spotify.com/v1/tracks/5FEXPoPnzueF...   \n",
       "3               4  https://api.spotify.com/v1/tracks/3DamFFqW32Wi...   \n",
       "4               4  https://api.spotify.com/v1/tracks/5iSEsR6NKjlC...   \n",
       "\n",
       "             type                                   uri  valence  \n",
       "0  audio_features  spotify:track:5Q0Nhxo0l2bP3pNjpGJwV1    0.483  \n",
       "1  audio_features  spotify:track:3Pzh926pXggbMe2ZpXyMV7    0.919  \n",
       "2  audio_features  spotify:track:5FEXPoPnzueFJQCPRIrC3c    0.805  \n",
       "3  audio_features  spotify:track:3DamFFqW32WihKkTVlwTYQ    0.489  \n",
       "4  audio_features  spotify:track:5iSEsR6NKjlC9SrIJkyL3k    0.264  "
      ]
     },
     "execution_count": 204,
     "metadata": {},
     "output_type": "execute_result"
    }
   ],
   "source": [
    "df_audio_features = pd.DataFrame.from_dict(rows,orient='columns')\n",
    "print(\"Shape of the dataset:\", df_audio_features.shape)\n",
    "df_audio_features.head()"
   ]
  },
  {
   "cell_type": "code",
   "execution_count": 205,
   "metadata": {},
   "outputs": [
    {
     "name": "stdout",
     "output_type": "stream",
     "text": [
      "<class 'pandas.core.frame.DataFrame'>\n",
      "RangeIndex: 102225 entries, 0 to 102224\n",
      "Data columns (total 18 columns):\n",
      "acousticness        102225 non-null float64\n",
      "analysis_url        102225 non-null object\n",
      "danceability        102225 non-null float64\n",
      "duration_ms         102225 non-null int64\n",
      "energy              102225 non-null float64\n",
      "id                  102225 non-null object\n",
      "instrumentalness    102225 non-null float64\n",
      "key                 102225 non-null int64\n",
      "liveness            102225 non-null float64\n",
      "loudness            102225 non-null float64\n",
      "mode                102225 non-null int64\n",
      "speechiness         102225 non-null float64\n",
      "tempo               102225 non-null float64\n",
      "time_signature      102225 non-null int64\n",
      "track_href          102225 non-null object\n",
      "type                102225 non-null object\n",
      "uri                 102225 non-null object\n",
      "valence             102225 non-null float64\n",
      "dtypes: float64(9), int64(4), object(5)\n",
      "memory usage: 14.0+ MB\n"
     ]
    }
   ],
   "source": [
    "df_audio_features.info()"
   ]
  },
  {
   "cell_type": "markdown",
   "metadata": {},
   "source": [
    "## <strong>3. Merging Both Dataframes</strong>"
   ]
  },
  {
   "cell_type": "code",
   "execution_count": 206,
   "metadata": {},
   "outputs": [
    {
     "data": {
      "text/plain": [
       "(102225, 14)"
      ]
     },
     "execution_count": 206,
     "metadata": {},
     "output_type": "execute_result"
    }
   ],
   "source": [
    "columns_to_drop = ['analysis_url','track_href','type','uri']\n",
    "df_audio_features.drop(columns_to_drop, axis=1,inplace=True)\n",
    "\n",
    "df_audio_features.rename(columns={'id': 'track_id'}, inplace=True)\n",
    "\n",
    "df_audio_features.shape"
   ]
  },
  {
   "cell_type": "code",
   "execution_count": 207,
   "metadata": {},
   "outputs": [
    {
     "name": "stdout",
     "output_type": "stream",
     "text": [
      "Shape of the dataset: (102225, 14)\n"
     ]
    },
    {
     "data": {
      "text/html": [
       "<div>\n",
       "<style scoped>\n",
       "    .dataframe tbody tr th:only-of-type {\n",
       "        vertical-align: middle;\n",
       "    }\n",
       "\n",
       "    .dataframe tbody tr th {\n",
       "        vertical-align: top;\n",
       "    }\n",
       "\n",
       "    .dataframe thead th {\n",
       "        text-align: right;\n",
       "    }\n",
       "</style>\n",
       "<table border=\"1\" class=\"dataframe\">\n",
       "  <thead>\n",
       "    <tr style=\"text-align: right;\">\n",
       "      <th></th>\n",
       "      <th>artist_name</th>\n",
       "      <th>track_name</th>\n",
       "      <th>track_id</th>\n",
       "      <th>popularity</th>\n",
       "      <th>year</th>\n",
       "      <th>acousticness</th>\n",
       "      <th>danceability</th>\n",
       "      <th>duration_ms</th>\n",
       "      <th>energy</th>\n",
       "      <th>instrumentalness</th>\n",
       "      <th>key</th>\n",
       "      <th>liveness</th>\n",
       "      <th>loudness</th>\n",
       "      <th>mode</th>\n",
       "      <th>speechiness</th>\n",
       "      <th>tempo</th>\n",
       "      <th>time_signature</th>\n",
       "      <th>valence</th>\n",
       "    </tr>\n",
       "  </thead>\n",
       "  <tbody>\n",
       "    <tr>\n",
       "      <th>0</th>\n",
       "      <td>Miley Cyrus</td>\n",
       "      <td>Party In The U.S.A.</td>\n",
       "      <td>5Q0Nhxo0l2bP3pNjpGJwV1</td>\n",
       "      <td>72</td>\n",
       "      <td>2009</td>\n",
       "      <td>0.00124</td>\n",
       "      <td>0.454</td>\n",
       "      <td>202067</td>\n",
       "      <td>0.708</td>\n",
       "      <td>0.000181</td>\n",
       "      <td>10</td>\n",
       "      <td>0.0679</td>\n",
       "      <td>-4.526</td>\n",
       "      <td>0</td>\n",
       "      <td>0.0675</td>\n",
       "      <td>192.180</td>\n",
       "      <td>4</td>\n",
       "      <td>0.483</td>\n",
       "    </tr>\n",
       "    <tr>\n",
       "      <th>1</th>\n",
       "      <td>Cage The Elephant</td>\n",
       "      <td>Ain't No Rest for the Wicked</td>\n",
       "      <td>3Pzh926pXggbMe2ZpXyMV7</td>\n",
       "      <td>71</td>\n",
       "      <td>2009</td>\n",
       "      <td>0.04380</td>\n",
       "      <td>0.634</td>\n",
       "      <td>175493</td>\n",
       "      <td>0.849</td>\n",
       "      <td>0.000000</td>\n",
       "      <td>0</td>\n",
       "      <td>0.3630</td>\n",
       "      <td>-7.075</td>\n",
       "      <td>1</td>\n",
       "      <td>0.1050</td>\n",
       "      <td>156.004</td>\n",
       "      <td>4</td>\n",
       "      <td>0.919</td>\n",
       "    </tr>\n",
       "    <tr>\n",
       "      <th>2</th>\n",
       "      <td>Kid Cudi</td>\n",
       "      <td>Day 'N' Nite (nightmare)</td>\n",
       "      <td>5FEXPoPnzueFJQCPRIrC3c</td>\n",
       "      <td>69</td>\n",
       "      <td>2009</td>\n",
       "      <td>0.50300</td>\n",
       "      <td>0.878</td>\n",
       "      <td>221267</td>\n",
       "      <td>0.446</td>\n",
       "      <td>0.000006</td>\n",
       "      <td>11</td>\n",
       "      <td>0.1170</td>\n",
       "      <td>-6.362</td>\n",
       "      <td>0</td>\n",
       "      <td>0.0635</td>\n",
       "      <td>138.035</td>\n",
       "      <td>4</td>\n",
       "      <td>0.805</td>\n",
       "    </tr>\n",
       "    <tr>\n",
       "      <th>3</th>\n",
       "      <td>Owl City</td>\n",
       "      <td>Fireflies</td>\n",
       "      <td>3DamFFqW32WihKkTVlwTYQ</td>\n",
       "      <td>75</td>\n",
       "      <td>2009</td>\n",
       "      <td>0.02940</td>\n",
       "      <td>0.591</td>\n",
       "      <td>228347</td>\n",
       "      <td>0.649</td>\n",
       "      <td>0.000000</td>\n",
       "      <td>3</td>\n",
       "      <td>0.1330</td>\n",
       "      <td>-6.720</td>\n",
       "      <td>1</td>\n",
       "      <td>0.0417</td>\n",
       "      <td>90.002</td>\n",
       "      <td>4</td>\n",
       "      <td>0.489</td>\n",
       "    </tr>\n",
       "    <tr>\n",
       "      <th>4</th>\n",
       "      <td>Kid Cudi</td>\n",
       "      <td>Pursuit Of Happiness (Nightmare)</td>\n",
       "      <td>5iSEsR6NKjlC9SrIJkyL3k</td>\n",
       "      <td>67</td>\n",
       "      <td>2009</td>\n",
       "      <td>0.51100</td>\n",
       "      <td>0.629</td>\n",
       "      <td>295293</td>\n",
       "      <td>0.622</td>\n",
       "      <td>0.000174</td>\n",
       "      <td>0</td>\n",
       "      <td>0.3830</td>\n",
       "      <td>-8.906</td>\n",
       "      <td>1</td>\n",
       "      <td>0.0404</td>\n",
       "      <td>115.293</td>\n",
       "      <td>4</td>\n",
       "      <td>0.264</td>\n",
       "    </tr>\n",
       "  </tbody>\n",
       "</table>\n",
       "</div>"
      ],
      "text/plain": [
       "         artist_name                        track_name  \\\n",
       "0        Miley Cyrus               Party In The U.S.A.   \n",
       "1  Cage The Elephant      Ain't No Rest for the Wicked   \n",
       "2           Kid Cudi          Day 'N' Nite (nightmare)   \n",
       "3           Owl City                         Fireflies   \n",
       "4           Kid Cudi  Pursuit Of Happiness (Nightmare)   \n",
       "\n",
       "                 track_id  popularity  year  acousticness  danceability  \\\n",
       "0  5Q0Nhxo0l2bP3pNjpGJwV1          72  2009       0.00124         0.454   \n",
       "1  3Pzh926pXggbMe2ZpXyMV7          71  2009       0.04380         0.634   \n",
       "2  5FEXPoPnzueFJQCPRIrC3c          69  2009       0.50300         0.878   \n",
       "3  3DamFFqW32WihKkTVlwTYQ          75  2009       0.02940         0.591   \n",
       "4  5iSEsR6NKjlC9SrIJkyL3k          67  2009       0.51100         0.629   \n",
       "\n",
       "   duration_ms  energy  instrumentalness  key  liveness  loudness  mode  \\\n",
       "0       202067   0.708          0.000181   10    0.0679    -4.526     0   \n",
       "1       175493   0.849          0.000000    0    0.3630    -7.075     1   \n",
       "2       221267   0.446          0.000006   11    0.1170    -6.362     0   \n",
       "3       228347   0.649          0.000000    3    0.1330    -6.720     1   \n",
       "4       295293   0.622          0.000174    0    0.3830    -8.906     1   \n",
       "\n",
       "   speechiness    tempo  time_signature  valence  \n",
       "0       0.0675  192.180               4    0.483  \n",
       "1       0.1050  156.004               4    0.919  \n",
       "2       0.0635  138.035               4    0.805  \n",
       "3       0.0417   90.002               4    0.489  \n",
       "4       0.0404  115.293               4    0.264  "
      ]
     },
     "execution_count": 207,
     "metadata": {},
     "output_type": "execute_result"
    }
   ],
   "source": [
    "# merge both dataframes\n",
    "# the 'inner' method will make sure that we only keep track IDs present in both datasets\n",
    "df = pd.merge(df_tracks,df_audio_features,on='track_id',how='inner')\n",
    "print(\"Shape of the dataset:\", df_audio_features.shape)\n",
    "df.head()"
   ]
  },
  {
   "cell_type": "code",
   "execution_count": 209,
   "metadata": {},
   "outputs": [],
   "source": [
    "df.to_csv('SpotifyAudioFeatures2009_2019.csv')"
   ]
  },
  {
   "cell_type": "markdown",
   "metadata": {},
   "source": [
    "## <strong>4. Visualising Differences Over the Decade</strong>"
   ]
  },
  {
   "cell_type": "code",
   "execution_count": 235,
   "metadata": {},
   "outputs": [],
   "source": [
    "import plotly.plotly as py\n",
    "import plotly.graph_objs as go\n",
    "\n",
    "def boxplots(feature):\n",
    "    year2009 = go.Box(\n",
    "        y=df[df['year']==2009][feature],name=\"2009\"\n",
    "    )\n",
    "    year2010 = go.Box(\n",
    "        y=df[df['year']==2010][feature],name=\"2010\"\n",
    "    )\n",
    "    year2011 = go.Box(\n",
    "        y=df[df['year']==2011][feature],name=\"2011\"\n",
    "    )\n",
    "    year2012 = go.Box(\n",
    "        y=df[df['year']==2012][feature],name=\"2012\"\n",
    "    )\n",
    "    year2013 = go.Box(\n",
    "        y=df[df['year']==2013][feature],name=\"2013\"\n",
    "    )\n",
    "    year2014 = go.Box(\n",
    "        y=df[df['year']==2014][feature],name=\"2014\"\n",
    "    )\n",
    "    year2015 = go.Box(\n",
    "        y=df[df['year']==2015][feature],name=\"2015\"\n",
    "    )\n",
    "    year2016 = go.Box(\n",
    "        y=df[df['year']==2016][feature],name=\"2016\"\n",
    "    )\n",
    "    year2017 = go.Box(\n",
    "        y=df[df['year']==2017][feature],name=\"2017\"\n",
    "    )\n",
    "    year2018 = go.Box(\n",
    "        y=df[df['year']==2018][feature],name=\"2018\"\n",
    "    )\n",
    "    year2019 = go.Box(\n",
    "        y=df[df['year']==2019][feature],name=\"2019\"\n",
    "    )\n",
    "\n",
    "    data = [year2009, year2010, year2011, year2012, year2013, year2014, year2015, year2016, year2017, year2018, year2019]\n",
    "    layout = go.Layout(\n",
    "    yaxis=dict(title=feature),xaxis=dict(tickangle=90)\n",
    "    )\n",
    "    fig = go.Figure(data=data, layout=layout)\n",
    "    return fig\n"
   ]
  },
  {
   "cell_type": "code",
   "execution_count": 236,
   "metadata": {},
   "outputs": [
    {
     "data": {
      "text/html": [
       "<iframe id=\"igraph\" scrolling=\"no\" style=\"border:none;\" seamless=\"seamless\" src=\"https://plot.ly/~salekali/36.embed\" height=\"525px\" width=\"100%\"></iframe>"
      ],
      "text/plain": [
       "<plotly.tools.PlotlyDisplay object>"
      ]
     },
     "execution_count": 236,
     "metadata": {},
     "output_type": "execute_result"
    }
   ],
   "source": [
    "py.iplot(boxplots('loudness'))"
   ]
  },
  {
   "cell_type": "code",
   "execution_count": 237,
   "metadata": {},
   "outputs": [
    {
     "data": {
      "text/html": [
       "<iframe id=\"igraph\" scrolling=\"no\" style=\"border:none;\" seamless=\"seamless\" src=\"https://plot.ly/~salekali/38.embed\" height=\"525px\" width=\"100%\"></iframe>"
      ],
      "text/plain": [
       "<plotly.tools.PlotlyDisplay object>"
      ]
     },
     "execution_count": 237,
     "metadata": {},
     "output_type": "execute_result"
    }
   ],
   "source": [
    "py.iplot(boxplots('acousticness'))"
   ]
  },
  {
   "cell_type": "code",
   "execution_count": 238,
   "metadata": {},
   "outputs": [
    {
     "data": {
      "text/html": [
       "<iframe id=\"igraph\" scrolling=\"no\" style=\"border:none;\" seamless=\"seamless\" src=\"https://plot.ly/~salekali/40.embed\" height=\"525px\" width=\"100%\"></iframe>"
      ],
      "text/plain": [
       "<plotly.tools.PlotlyDisplay object>"
      ]
     },
     "execution_count": 238,
     "metadata": {},
     "output_type": "execute_result"
    }
   ],
   "source": [
    "py.iplot(boxplots('danceability'))"
   ]
  },
  {
   "cell_type": "code",
   "execution_count": 239,
   "metadata": {},
   "outputs": [
    {
     "data": {
      "text/html": [
       "<iframe id=\"igraph\" scrolling=\"no\" style=\"border:none;\" seamless=\"seamless\" src=\"https://plot.ly/~salekali/42.embed\" height=\"525px\" width=\"100%\"></iframe>"
      ],
      "text/plain": [
       "<plotly.tools.PlotlyDisplay object>"
      ]
     },
     "execution_count": 239,
     "metadata": {},
     "output_type": "execute_result"
    }
   ],
   "source": [
    "py.iplot(boxplots('energy'))"
   ]
  },
  {
   "cell_type": "code",
   "execution_count": 240,
   "metadata": {},
   "outputs": [
    {
     "data": {
      "text/html": [
       "<iframe id=\"igraph\" scrolling=\"no\" style=\"border:none;\" seamless=\"seamless\" src=\"https://plot.ly/~salekali/44.embed\" height=\"525px\" width=\"100%\"></iframe>"
      ],
      "text/plain": [
       "<plotly.tools.PlotlyDisplay object>"
      ]
     },
     "execution_count": 240,
     "metadata": {},
     "output_type": "execute_result"
    }
   ],
   "source": [
    "py.iplot(boxplots('instrumentalness'))"
   ]
  },
  {
   "cell_type": "code",
   "execution_count": 241,
   "metadata": {},
   "outputs": [
    {
     "data": {
      "text/html": [
       "<iframe id=\"igraph\" scrolling=\"no\" style=\"border:none;\" seamless=\"seamless\" src=\"https://plot.ly/~salekali/46.embed\" height=\"525px\" width=\"100%\"></iframe>"
      ],
      "text/plain": [
       "<plotly.tools.PlotlyDisplay object>"
      ]
     },
     "execution_count": 241,
     "metadata": {},
     "output_type": "execute_result"
    }
   ],
   "source": [
    "py.iplot(boxplots('liveness'))"
   ]
  },
  {
   "cell_type": "code",
   "execution_count": 242,
   "metadata": {},
   "outputs": [
    {
     "data": {
      "text/html": [
       "<iframe id=\"igraph\" scrolling=\"no\" style=\"border:none;\" seamless=\"seamless\" src=\"https://plot.ly/~salekali/48.embed\" height=\"525px\" width=\"100%\"></iframe>"
      ],
      "text/plain": [
       "<plotly.tools.PlotlyDisplay object>"
      ]
     },
     "execution_count": 242,
     "metadata": {},
     "output_type": "execute_result"
    }
   ],
   "source": [
    "py.iplot(boxplots('speechiness'))"
   ]
  },
  {
   "cell_type": "code",
   "execution_count": null,
   "metadata": {},
   "outputs": [],
   "source": []
  }
 ],
 "metadata": {
  "kernelspec": {
   "display_name": "Python 3",
   "language": "python",
   "name": "python3"
  },
  "language_info": {
   "codemirror_mode": {
    "name": "ipython",
    "version": 3
   },
   "file_extension": ".py",
   "mimetype": "text/x-python",
   "name": "python",
   "nbconvert_exporter": "python",
   "pygments_lexer": "ipython3",
   "version": "3.7.3"
  }
 },
 "nbformat": 4,
 "nbformat_minor": 4
}
